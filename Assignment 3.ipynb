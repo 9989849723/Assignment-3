{
 "cells": [
  {
   "cell_type": "markdown",
   "id": "45d83ef4",
   "metadata": {},
   "source": [
    "# 1) Write a Python program that prints all the numbers from0 to 6 except 3 and 6"
   ]
  },
  {
   "cell_type": "markdown",
   "id": "0179a839",
   "metadata": {},
   "source": [
    "# for loop"
   ]
  },
  {
   "cell_type": "code",
   "execution_count": 1,
   "id": "82e36e96",
   "metadata": {},
   "outputs": [
    {
     "name": "stdout",
     "output_type": "stream",
     "text": [
      "0\n",
      "1\n",
      "2\n",
      "4\n",
      "5\n"
     ]
    }
   ],
   "source": [
    "for i in range(0,7):\n",
    "    if i==3 or i==6:\n",
    "        continue\n",
    "    print(i)    "
   ]
  },
  {
   "cell_type": "markdown",
   "id": "0bf8db69",
   "metadata": {},
   "source": [
    "# while loop"
   ]
  },
  {
   "cell_type": "code",
   "execution_count": 1,
   "id": "f7be86dd",
   "metadata": {},
   "outputs": [
    {
     "name": "stdout",
     "output_type": "stream",
     "text": [
      "0\n",
      "1\n",
      "2\n",
      "4\n",
      "5\n"
     ]
    }
   ],
   "source": [
    "x=True\n",
    "while x:\n",
    "    for i in range(7):\n",
    "        if i==3 or i==6:\n",
    "            continue\n",
    "        print(i) \n",
    "        x=False"
   ]
  },
  {
   "cell_type": "markdown",
   "id": "767a9ddd",
   "metadata": {},
   "source": [
    "# 2) Write a program to accept a number from a user andcalculate the sum of all numbers from 1 to a given number"
   ]
  },
  {
   "cell_type": "markdown",
   "id": "bf5f72b2",
   "metadata": {},
   "source": [
    "# for loop"
   ]
  },
  {
   "cell_type": "code",
   "execution_count": 4,
   "id": "968dac3a",
   "metadata": {},
   "outputs": [
    {
     "name": "stdout",
     "output_type": "stream",
     "text": [
      "choose any number :6\n",
      "21\n"
     ]
    }
   ],
   "source": [
    "num=int(input(\"choose any number :\"))\n",
    "sum=0\n",
    "for i in range(1,num+1):\n",
    "    sum+=i\n",
    "print(sum)"
   ]
  },
  {
   "cell_type": "markdown",
   "id": "80b03eb3",
   "metadata": {},
   "source": [
    "# while loop"
   ]
  },
  {
   "cell_type": "code",
   "execution_count": 6,
   "id": "e7139053",
   "metadata": {},
   "outputs": [
    {
     "name": "stdout",
     "output_type": "stream",
     "text": [
      "choose any number :7\n",
      "28\n"
     ]
    }
   ],
   "source": [
    "num=int(input(\"choose any number :\"))\n",
    "sum=0\n",
    "x=True\n",
    "while x:\n",
    "    for i in range (1,num+1):\n",
    "        sum+=i\n",
    "    print(sum)\n",
    "    x=False"
   ]
  },
  {
   "cell_type": "markdown",
   "id": "fdb8d6c3",
   "metadata": {},
   "source": [
    "# 3) Write a program to print multiplication table of a given number(input)"
   ]
  },
  {
   "cell_type": "markdown",
   "id": "337719ef",
   "metadata": {},
   "source": [
    "# for loop"
   ]
  },
  {
   "cell_type": "code",
   "execution_count": 7,
   "id": "4dcab527",
   "metadata": {},
   "outputs": [
    {
     "name": "stdout",
     "output_type": "stream",
     "text": [
      "enter a number9\n",
      "9*9=1\n",
      "9*18=2\n",
      "9*27=3\n",
      "9*36=4\n",
      "9*45=5\n",
      "9*54=6\n",
      "9*63=7\n",
      "9*72=8\n",
      "9*81=9\n",
      "9*90=10\n"
     ]
    }
   ],
   "source": [
    "num=int(input(\"enter a number\"))\n",
    "for i in range (1,11):\n",
    "    c=num*i\n",
    "    print(\"{}*{}={}\".format(num,c,i))"
   ]
  },
  {
   "cell_type": "markdown",
   "id": "ee5ef356",
   "metadata": {},
   "source": [
    "# while loop"
   ]
  },
  {
   "cell_type": "code",
   "execution_count": 8,
   "id": "c2b7d435",
   "metadata": {},
   "outputs": [
    {
     "name": "stdout",
     "output_type": "stream",
     "text": [
      "enter a number8\n",
      "8*8=1\n",
      "8*16=2\n",
      "8*24=3\n",
      "8*32=4\n",
      "8*40=5\n",
      "8*48=6\n",
      "8*56=7\n",
      "8*64=8\n",
      "8*72=9\n",
      "8*80=10\n"
     ]
    }
   ],
   "source": [
    "num=int(input(\"enter a number\"))\n",
    "x=True\n",
    "while x:\n",
    "    for i in range (1,11):\n",
    "        c=num*i\n",
    "        print(\"{}*{}={}\".format(num,c,i))\n",
    "        x=False"
   ]
  },
  {
   "cell_type": "markdown",
   "id": "ffd878f4",
   "metadata": {},
   "source": [
    "# "
   ]
  },
  {
   "cell_type": "markdown",
   "id": "d49ee1de",
   "metadata": {},
   "source": [
    "# 4) Write a program to count the total number of digits in a number using a while loop. "
   ]
  },
  {
   "cell_type": "markdown",
   "id": "09fde322",
   "metadata": {},
   "source": [
    "# while loop"
   ]
  },
  {
   "cell_type": "code",
   "execution_count": 9,
   "id": "4fd03480",
   "metadata": {},
   "outputs": [
    {
     "name": "stdout",
     "output_type": "stream",
     "text": [
      "enter any number75869\n",
      "Length of 75869 is : 5\n"
     ]
    }
   ],
   "source": [
    "num=input(\"enter any number\")\n",
    "x=True\n",
    "y=0\n",
    "while x:\n",
    "    for i in num:\n",
    "        y+=1\n",
    "    x=False\n",
    "print(\"Length of {} is : {}\".format(num,y))    "
   ]
  },
  {
   "cell_type": "markdown",
   "id": "ee8d27fc",
   "metadata": {},
   "source": [
    "# 5) Write a Python program to guess a number between 1 to  Example:User is prompted to enter a guess. If the user guesses wrongthen the prompt appears again until the guess is correct, onsuccessful guess, user will get a \"Well guessed!\" message, and the program will exit."
   ]
  },
  {
   "cell_type": "markdown",
   "id": "4e836464",
   "metadata": {},
   "source": [
    "# for loop"
   ]
  },
  {
   "cell_type": "code",
   "execution_count": 1,
   "id": "8bfcda15",
   "metadata": {},
   "outputs": [
    {
     "name": "stdout",
     "output_type": "stream",
     "text": [
      "enter the number : 4\n",
      "guess untill u succeed\n",
      "enter the number : 6\n",
      "guess untill u succeed\n",
      "enter the number : 8\n",
      "Well guessed!\n"
     ]
    }
   ],
   "source": [
    "import random\n",
    "r=random.randrange(1,10)\n",
    "for i in range(1,10):                                    \n",
    "    guess=int(input(\"enter the number : \"))\n",
    "    if r==guess:\n",
    "        print(\"Well guessed!\")\n",
    "        break;\n",
    "    else:\n",
    "        print(\"guess untill u succeed\") "
   ]
  },
  {
   "cell_type": "markdown",
   "id": "ca1c8380",
   "metadata": {},
   "source": [
    "# while loop"
   ]
  },
  {
   "cell_type": "code",
   "execution_count": 2,
   "id": "8949acbc",
   "metadata": {},
   "outputs": [
    {
     "name": "stdout",
     "output_type": "stream",
     "text": [
      "enter the number : 2\n",
      "Well guessed!\n"
     ]
    }
   ],
   "source": [
    "import random\n",
    "r=random.randrange(1,10)\n",
    "i=0                                                            \n",
    "while i<10:\n",
    "    guess=int(input(\"enter the number : \"))\n",
    "    if r==guess:\n",
    "        print(\"Well guessed!\")\n",
    "        break;\n",
    "    else:\n",
    "        print(\"guess untill u succeed\")"
   ]
  },
  {
   "cell_type": "markdown",
   "id": "0ed6350d",
   "metadata": {},
   "source": [
    "# 6) Write a Python program which iterates the integers from 1to 60. For multiples of three print \"Fizz\" instead of the number and for the multiples of five print \"Buzz\". For numbers which are multiples of both three and five print\"FizzBuzz\".\n"
   ]
  },
  {
   "cell_type": "markdown",
   "id": "c1dc125f",
   "metadata": {},
   "source": [
    "# for loop"
   ]
  },
  {
   "cell_type": "code",
   "execution_count": 3,
   "id": "6db536bd",
   "metadata": {},
   "outputs": [
    {
     "name": "stdout",
     "output_type": "stream",
     "text": [
      "1\n",
      "2\n",
      "Fizz\n",
      "4\n",
      "Buzz\n",
      "Fizz\n",
      "7\n",
      "8\n",
      "Fizz\n",
      "Buzz\n",
      "11\n",
      "Fizz\n",
      "13\n",
      "14\n",
      "Fizz\n",
      "16\n",
      "17\n",
      "Fizz\n",
      "19\n",
      "Buzz\n",
      "Fizz\n",
      "22\n",
      "23\n",
      "Fizz\n",
      "Buzz\n",
      "26\n",
      "Fizz\n",
      "28\n",
      "29\n",
      "Fizz\n",
      "31\n",
      "32\n",
      "Fizz\n",
      "34\n",
      "Buzz\n",
      "Fizz\n",
      "37\n",
      "38\n",
      "Fizz\n",
      "Buzz\n",
      "41\n",
      "Fizz\n",
      "43\n",
      "44\n",
      "Fizz\n",
      "46\n",
      "47\n",
      "Fizz\n",
      "49\n",
      "Buzz\n",
      "Fizz\n",
      "52\n",
      "53\n",
      "Fizz\n",
      "Buzz\n",
      "56\n",
      "Fizz\n",
      "58\n",
      "59\n",
      "Fizz\n"
     ]
    }
   ],
   "source": [
    "for i in range(1,61):\n",
    "    if i%3==0:\n",
    "        print(\"Fizz\")\n",
    "    elif i%5==0:\n",
    "        print(\"Buzz\")\n",
    "    elif i%3==0 and i%5==0:\n",
    "        print(\"FizzBuzz\")\n",
    "    else:\n",
    "        print(i)"
   ]
  },
  {
   "cell_type": "markdown",
   "id": "28ba9481",
   "metadata": {},
   "source": [
    "# while loop"
   ]
  },
  {
   "cell_type": "code",
   "execution_count": 4,
   "id": "4188a876",
   "metadata": {},
   "outputs": [
    {
     "name": "stdout",
     "output_type": "stream",
     "text": [
      "1\n",
      "2\n",
      "Fizz\n",
      "4\n",
      "Buzz\n",
      "Fizz\n",
      "7\n",
      "8\n",
      "Fizz\n",
      "Buzz\n",
      "11\n",
      "Fizz\n",
      "13\n",
      "14\n",
      "Fizz\n",
      "16\n",
      "17\n",
      "Fizz\n",
      "19\n",
      "Buzz\n",
      "Fizz\n",
      "22\n",
      "23\n",
      "Fizz\n",
      "Buzz\n",
      "26\n",
      "Fizz\n",
      "28\n",
      "29\n",
      "Fizz\n",
      "31\n",
      "32\n",
      "Fizz\n",
      "34\n",
      "Buzz\n",
      "Fizz\n",
      "37\n",
      "38\n",
      "Fizz\n",
      "Buzz\n",
      "41\n",
      "Fizz\n",
      "43\n",
      "44\n",
      "Fizz\n",
      "46\n",
      "47\n",
      "Fizz\n",
      "49\n",
      "Buzz\n",
      "Fizz\n",
      "52\n",
      "53\n",
      "Fizz\n",
      "Buzz\n",
      "56\n",
      "Fizz\n",
      "58\n",
      "59\n"
     ]
    }
   ],
   "source": [
    "i=1\n",
    "while i<60:\n",
    "    if i%3==0:\n",
    "        print(\"Fizz\")\n",
    "    elif i%5==0:\n",
    "        print(\"Buzz\")\n",
    "    elif i%3==0 and i%5==0:\n",
    "        print(\"FizzBuzz\")\n",
    "    else:\n",
    "        print(i)\n",
    "    i+=1"
   ]
  },
  {
   "cell_type": "markdown",
   "id": "e984ff3c",
   "metadata": {},
   "source": [
    "# 7) Write a Python program that accepts a string and calculate the number of digits and letters Example:InputPython 3.2Output Letters 6 Digits 2 "
   ]
  },
  {
   "cell_type": "markdown",
   "id": "c568a211",
   "metadata": {},
   "source": [
    "# for loop"
   ]
  },
  {
   "cell_type": "code",
   "execution_count": 5,
   "id": "b91294a9",
   "metadata": {},
   "outputs": [
    {
     "name": "stdout",
     "output_type": "stream",
     "text": [
      "eneter a string rachanamanoj56789\n",
      "letters  12\n",
      "digits  5\n"
     ]
    }
   ],
   "source": [
    "a=input(\"eneter a string \")\n",
    "b=[]\n",
    "c=[]\n",
    "for i in a:\n",
    "    if i.isalpha():\n",
    "        b.append(i)\n",
    "    else:\n",
    "        c.append(i)\n",
    "print(\"letters \",len(b))\n",
    "print(\"digits \",len(c))"
   ]
  },
  {
   "cell_type": "markdown",
   "id": "519ae37a",
   "metadata": {},
   "source": [
    "# while loop"
   ]
  },
  {
   "cell_type": "code",
   "execution_count": 6,
   "id": "564cdd58",
   "metadata": {},
   "outputs": [
    {
     "name": "stdout",
     "output_type": "stream",
     "text": [
      "eneter a string manojrachanaevol987y6543211\n",
      "letters  17\n",
      "digits  10\n"
     ]
    }
   ],
   "source": [
    "a=input(\"eneter a string \")\n",
    "b=[]\n",
    "c=[]\n",
    "d=0\n",
    "while d<len(a):\n",
    "    for i in a:\n",
    "        if i.isalpha():\n",
    "            b.append(i)\n",
    "        else:\n",
    "            c.append(i)\n",
    "        d+=1\n",
    "print(\"letters \",len(b))\n",
    "print(\"digits \",len(c))"
   ]
  },
  {
   "cell_type": "markdown",
   "id": "87c16327",
   "metadata": {},
   "source": [
    "# 8) Write a Python program to check the validity of password input by users.Validation: At least 1 letter between [a-z] and 1 letter between [A-Z].At least 1 number between [0-9].At least 1 character from $#@].Minimum length 6 characters.Maximum length 16 characters.\n"
   ]
  },
  {
   "cell_type": "markdown",
   "id": "a8eaeff3",
   "metadata": {},
   "source": [
    "# for loop"
   ]
  },
  {
   "cell_type": "code",
   "execution_count": 7,
   "id": "e3d5a704",
   "metadata": {},
   "outputs": [
    {
     "name": "stdout",
     "output_type": "stream",
     "text": [
      "enter password  Manoj@963246\n",
      "OK\n",
      "You have given valid Password.\n"
     ]
    }
   ],
   "source": [
    "password=input(\"enter password  \")\n",
    "lowalpha=0\n",
    "upalpha=0\n",
    "num=0\n",
    "sym=0\n",
    "symbol=[\"@\",\"$\",\"#\"]\n",
    "for elements in password:\n",
    "    if elements.isalpha():\n",
    "        if elements==elements.upper():\n",
    "            upalpha+=1\n",
    "        elif elements==elements.lower():\n",
    "            lowalpha+=1\n",
    "    elif elements in symbol:\n",
    "        sym+=1\n",
    "    elif int(elements) in range(0,10):\n",
    "        num+=1\n",
    "if len(password)<6:\n",
    "    print(\"Your Password must contain atleast 6 charecters\")\n",
    "elif len(password)>16:\n",
    "    print(\"Your Password length is greater than limits, Please reduce some charecters\")\n",
    "elif num==0:\n",
    "    print(\"Please include numbers inside your password\")\n",
    "elif upalpha==0:\n",
    "    print(\"Please include upperr case letters inside your password\")\n",
    "elif lowalpha==0:\n",
    "    print(\"Please include lower case letters inside your password\")\n",
    "elif sym==0:\n",
    "    print(\"Please include special symbols inside your password\")\n",
    "else:\n",
    "    print(\"OK\\nYou have given valid Password.\")"
   ]
  },
  {
   "cell_type": "markdown",
   "id": "09646ca6",
   "metadata": {},
   "source": [
    "# 9) Write a program in Python to reverse a word by using while loop"
   ]
  },
  {
   "cell_type": "markdown",
   "id": "e2bcb7b9",
   "metadata": {},
   "source": [
    "# for loop"
   ]
  },
  {
   "cell_type": "code",
   "execution_count": 8,
   "id": "266ce5b8",
   "metadata": {},
   "outputs": [
    {
     "name": "stdout",
     "output_type": "stream",
     "text": [
      "enter a word manojmuthineni\n"
     ]
    },
    {
     "data": {
      "text/plain": [
       "'inenihtumjonam'"
      ]
     },
     "execution_count": 8,
     "metadata": {},
     "output_type": "execute_result"
    }
   ],
   "source": [
    "a=input(\"enter a word \")\n",
    "b=[]\n",
    "for i in range(0,len(a)):\n",
    "    b.append(a[i])\n",
    "\"\".join(b[::-1])"
   ]
  },
  {
   "cell_type": "markdown",
   "id": "f3608d45",
   "metadata": {},
   "source": [
    "# 10) Write a program which takes 10 integers as input using loop and print their average value on the screen"
   ]
  },
  {
   "cell_type": "markdown",
   "id": "c86e9312",
   "metadata": {},
   "source": [
    "# for loop"
   ]
  },
  {
   "cell_type": "code",
   "execution_count": 1,
   "id": "50c3a588",
   "metadata": {},
   "outputs": [
    {
     "name": "stdout",
     "output_type": "stream",
     "text": [
      "enter a number 1\n",
      "enter a number 2\n",
      "enter a number 3\n",
      "enter a number 4\n",
      "enter a number 5\n",
      "enter a number 6\n",
      "enter a number 7\n",
      "enter a number 8\n",
      "enter a number 9\n",
      "enter a number 8\n",
      "the average of given values is  5.3\n"
     ]
    }
   ],
   "source": [
    "b=[]\n",
    "for i in range(0,10):\n",
    "    a=int(input(\"enter a number \"))\n",
    "    b.append(a)\n",
    "print(\"the average of given values is \",(sum(b)/len(b)))"
   ]
  },
  {
   "cell_type": "markdown",
   "id": "7bd6d6f6",
   "metadata": {},
   "source": [
    "# while loop"
   ]
  },
  {
   "cell_type": "code",
   "execution_count": 2,
   "id": "43e45891",
   "metadata": {},
   "outputs": [
    {
     "name": "stdout",
     "output_type": "stream",
     "text": [
      "enter a number 1\n",
      "enter a number 2\n",
      "enter a number 3\n",
      "enter a number 4\n",
      "enter a number 5\n",
      "enter a number 6\n",
      "enter a number 77\n",
      "enter a number 8\n",
      "enter a number 9\n",
      "enter a number 2\n",
      "the average of the given numbers is  11.7\n"
     ]
    }
   ],
   "source": [
    "b=[]\n",
    "c=1\n",
    "while c<=10:\n",
    "    c+=1\n",
    "    a=int(input(\"enter a number \"))\n",
    "    b.append(a)\n",
    "print(\"the average of the given numbers is \",sum(b)/len(b))"
   ]
  },
  {
   "cell_type": "markdown",
   "id": "7fa08a19",
   "metadata": {},
   "source": [
    "# 11) Write a program which takes integer inputs from user until he/she presses “q” (Ask to press q to quit after every integer input). Print average and product of all numbers."
   ]
  },
  {
   "cell_type": "code",
   "execution_count": 3,
   "id": "001ad40a",
   "metadata": {},
   "outputs": [
    {
     "name": "stdout",
     "output_type": "stream",
     "text": [
      "Please enter numbers in the provided boxes findout their average and the product :\n",
      "give a number : 33\n",
      "if you want to exit press - q\n",
      "give a number : 66\n",
      "if you want to exit press - q\n",
      "give a number : 44\n",
      "if you want to exit press - q\n",
      "give a number : 55\n",
      "if you want to exit press - q\n",
      "give a number : q\n",
      "\n",
      "Product = 5270760\n",
      "Average = 49.5\n"
     ]
    }
   ],
   "source": [
    "print(\"Please enter numbers in the provided boxes findout their average and the product :\")\n",
    "numbers=[]\n",
    "newnum=[]\n",
    "product=1\n",
    "while True:\n",
    "    num=input(\"give a number : \")\n",
    "    if num==\"q\":\n",
    "        break\n",
    "    print(\"if you want to exit press - q\")\n",
    "    numbers.append(num)\n",
    "for j in numbers:\n",
    "    a=int(j)\n",
    "    newnum.append(a)\n",
    "for i in newnum:\n",
    "    product=product*i\n",
    "total=sum(newnum)\n",
    "average=total/len(newnum)\n",
    "print(\"\\nProduct = {}\".format(product))\n",
    "print(\"Average = {}\".format(average))"
   ]
  },
  {
   "cell_type": "markdown",
   "id": "77ca5049",
   "metadata": {},
   "source": [
    "#  12) Write a Python program which will remove all digits or any other characters from the string except alphabets Example: Input: “asd12.asd22”"
   ]
  },
  {
   "cell_type": "markdown",
   "id": "c6803204",
   "metadata": {},
   "source": [
    "# for loop"
   ]
  },
  {
   "cell_type": "code",
   "execution_count": 4,
   "id": "8436d25c",
   "metadata": {},
   "outputs": [
    {
     "name": "stdout",
     "output_type": "stream",
     "text": [
      "eneter anything asdf123@#$.\n"
     ]
    },
    {
     "data": {
      "text/plain": [
       "'asdf'"
      ]
     },
     "execution_count": 4,
     "metadata": {},
     "output_type": "execute_result"
    }
   ],
   "source": [
    "a=input(\"eneter anything \")\n",
    "b=\"\"\n",
    "for i in a:\n",
    "    if i.isalpha():\n",
    "        b+=i\n",
    "b"
   ]
  },
  {
   "cell_type": "markdown",
   "id": "c16727eb",
   "metadata": {},
   "source": [
    "# while loop"
   ]
  },
  {
   "cell_type": "code",
   "execution_count": 5,
   "id": "c0d99eeb",
   "metadata": {},
   "outputs": [
    {
     "name": "stdout",
     "output_type": "stream",
     "text": [
      "eneter anything manoj@#$56677.';.\n"
     ]
    },
    {
     "data": {
      "text/plain": [
       "'manoj'"
      ]
     },
     "execution_count": 5,
     "metadata": {},
     "output_type": "execute_result"
    }
   ],
   "source": [
    "a=input(\"eneter anything \")\n",
    "c=\"\"\n",
    "b=0\n",
    "while b<len(a):\n",
    "    for i in a:\n",
    "        if i.isalpha():\n",
    "            c+=i\n",
    "        b+=1\n",
    "c  "
   ]
  },
  {
   "cell_type": "markdown",
   "id": "eca63efd",
   "metadata": {},
   "source": [
    "# 13) Write a python program to find the sum of all even numbers from 0 to 10"
   ]
  },
  {
   "cell_type": "markdown",
   "id": "f1c56008",
   "metadata": {},
   "source": [
    "# for loop"
   ]
  },
  {
   "cell_type": "code",
   "execution_count": 6,
   "id": "1d36588d",
   "metadata": {},
   "outputs": [],
   "source": [
    "a=0\n",
    "for i in range(0,10):\n",
    "    if i%2==0:\n",
    "        a+=i"
   ]
  },
  {
   "cell_type": "code",
   "execution_count": 7,
   "id": "527a046f",
   "metadata": {},
   "outputs": [
    {
     "data": {
      "text/plain": [
       "20"
      ]
     },
     "execution_count": 7,
     "metadata": {},
     "output_type": "execute_result"
    }
   ],
   "source": [
    "a"
   ]
  },
  {
   "cell_type": "markdown",
   "id": "9bed0ed6",
   "metadata": {},
   "source": [
    "# while loop"
   ]
  },
  {
   "cell_type": "code",
   "execution_count": 8,
   "id": "316ad34d",
   "metadata": {},
   "outputs": [
    {
     "data": {
      "text/plain": [
       "20"
      ]
     },
     "execution_count": 8,
     "metadata": {},
     "output_type": "execute_result"
    }
   ],
   "source": [
    "a=0\n",
    "b=0\n",
    "while a<10:\n",
    "    if a%2==0:\n",
    "        b+=a\n",
    "    a+=1\n",
    "b\n"
   ]
  },
  {
   "cell_type": "markdown",
   "id": "d22d94c0",
   "metadata": {},
   "source": [
    "# 14) Write a python program which will accept a digit and print All the numbers before it till 0 Example: Input: 5 Output:43210"
   ]
  },
  {
   "cell_type": "code",
   "execution_count": 9,
   "id": "fe3c742d",
   "metadata": {},
   "outputs": [
    {
     "name": "stdout",
     "output_type": "stream",
     "text": [
      "enter a number 5\n",
      "4\n",
      "3\n",
      "2\n",
      "1\n",
      "0\n"
     ]
    }
   ],
   "source": [
    "a=int(input(\"enter a number \"))\n",
    "c=0\n",
    "while a>c:\n",
    "    a-=1 \n",
    "    print(a)"
   ]
  },
  {
   "cell_type": "markdown",
   "id": "a8b37554",
   "metadata": {},
   "source": [
    "# 15) Create a dynamic calculator which will run continually till you press “c”\n"
   ]
  },
  {
   "cell_type": "code",
   "execution_count": 10,
   "id": "7e87ddf4",
   "metadata": {},
   "outputs": [
    {
     "name": "stdout",
     "output_type": "stream",
     "text": [
      "eneter first value :3\n",
      "enter second value :4\n",
      "plese provide a sign to perform on the numbers+\n",
      "The addition of two numbers is : 7\n",
      "do you want continue 5\n",
      "eneter first value :6\n",
      "enter second value :7\n",
      "plese provide a sign to perform on the numbers-\n",
      "the substraction of two numbers is : -1\n",
      "do you want continue \n",
      "eneter first value :5\n",
      "enter second value :6\n",
      "plese provide a sign to perform on the numbers*\n",
      "do you want continue \n",
      "eneter first value :5\n",
      "enter second value :6\n",
      "plese provide a sign to perform on the numbers*\n",
      "do you want continue c\n"
     ]
    }
   ],
   "source": [
    "while True:\n",
    "    a=int(input(\"eneter first value :\"))\n",
    "    b=int(input(\"enter second value :\"))\n",
    "    c=input(\"plese provide a sign to perform on the numbers\")\n",
    "    if c==\"+\":\n",
    "        print(\"The addition of two numbers is :\",a+b)\n",
    "    elif c==\"-\":\n",
    "        print(\"the substraction of two numbers is :\",a-b)\n",
    "    elif c==\"\":\n",
    "        print(\"the product of two numbers is :\",ab)\n",
    "    elif c==\"%\":\n",
    "        print(\"the division of two numbers is\",a%b)\n",
    "    elif c==\"//\":\n",
    "        print(\"the floor division of two numbers is \",a//b)\n",
    "    d=input(\"do you want continue \")\n",
    "    e=d.lower()\n",
    "    if e==\"c\":\n",
    "        break"
   ]
  },
  {
   "cell_type": "code",
   "execution_count": null,
   "id": "5408de96",
   "metadata": {},
   "outputs": [],
   "source": []
  }
 ],
 "metadata": {
  "kernelspec": {
   "display_name": "Python 3 (ipykernel)",
   "language": "python",
   "name": "python3"
  },
  "language_info": {
   "codemirror_mode": {
    "name": "ipython",
    "version": 3
   },
   "file_extension": ".py",
   "mimetype": "text/x-python",
   "name": "python",
   "nbconvert_exporter": "python",
   "pygments_lexer": "ipython3",
   "version": "3.9.13"
  }
 },
 "nbformat": 4,
 "nbformat_minor": 5
}
